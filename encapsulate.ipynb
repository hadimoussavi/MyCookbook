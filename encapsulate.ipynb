{
  "nbformat": 4,
  "nbformat_minor": 0,
  "metadata": {
    "colab": {
      "name": "encapsulate.ipynb",
      "provenance": [],
      "authorship_tag": "ABX9TyOsl/MLsD0OfjTA0nAO3GrY",
      "include_colab_link": true
    },
    "kernelspec": {
      "name": "python3",
      "display_name": "Python 3"
    }
  },
  "cells": [
    {
      "cell_type": "markdown",
      "metadata": {
        "id": "view-in-github",
        "colab_type": "text"
      },
      "source": [
        "<a href=\"https://colab.research.google.com/github/hadimoussavi/MyCookbook/blob/master/encapsulate.ipynb\" target=\"_parent\"><img src=\"https://colab.research.google.com/assets/colab-badge.svg\" alt=\"Open In Colab\"/></a>"
      ]
    },
    {
      "cell_type": "code",
      "metadata": {
        "id": "xXS9K7GQSZzq",
        "colab_type": "code",
        "colab": {
          "base_uri": "https://localhost:8080/",
          "height": 51
        },
        "outputId": "db5ebbcf-81c3-4dbd-e46c-e2f1ddc790b0"
      },
      "source": [
        "class car:\n",
        "  def __init__(self):\n",
        "    self.__updatesoftware()\n",
        "  def drive(self):\n",
        "    print(\"driving\") \n",
        "  def __updatesoftware(self):\n",
        "    print(\"updating software\")\n",
        "\n",
        "blackcar = car()  \n",
        "blackcar.drive()  "
      ],
      "execution_count": 3,
      "outputs": [
        {
          "output_type": "stream",
          "text": [
            "updating software\n",
            "driving\n"
          ],
          "name": "stdout"
        }
      ]
    },
    {
      "cell_type": "code",
      "metadata": {
        "id": "WzJTOMweTHPf",
        "colab_type": "code",
        "colab": {
          "base_uri": "https://localhost:8080/",
          "height": 68
        },
        "outputId": "1385b67f-13d1-45e1-a81e-243001b9fe22"
      },
      "source": [
        "class car:\n",
        "  __maxspeed = 0\n",
        "  __name = \"\"\n",
        "  def __init__(self):\n",
        "    self.__maxspeed = 200\n",
        "    self.__name = \"supercar\"\n",
        "  def drive(self):\n",
        "    print(\"driving\")\n",
        "    print(self.__maxspeed) \n",
        "  def setspeed(self,speed):\n",
        "    self.__maxspeed = speed\n",
        "    print(self.__maxspeed)\n",
        "\n",
        "redcar = car()  \n",
        "redcar.drive()\n",
        "redcar.setspeed(100)  "
      ],
      "execution_count": 6,
      "outputs": [
        {
          "output_type": "stream",
          "text": [
            "driving\n",
            "200\n",
            "100\n"
          ],
          "name": "stdout"
        }
      ]
    },
    {
      "cell_type": "code",
      "metadata": {
        "id": "jaq9rJsvVEua",
        "colab_type": "code",
        "colab": {
          "base_uri": "https://localhost:8080/",
          "height": 85
        },
        "outputId": "7cc8e857-af84-4f44-b235-384bac5d3281"
      },
      "source": [
        "class car:\n",
        "  __maxspeed = 0\n",
        "  __name = \"\"\n",
        "  def __init__(self):\n",
        "    self.__maxspeed = 200\n",
        "    self.__name = \"supercar\"\n",
        "  def drive(self):\n",
        "    print(\"driving\")\n",
        "    print(self.__maxspeed) \n",
        "  #def setspeed(self,speed):\n",
        "  #  self.__maxspeed = speed\n",
        "  #  print(self.__maxspeed)\n",
        "\n",
        "redcar = car()  \n",
        "redcar.drive()\n",
        "redcar.__maxspeed = 100  \n",
        "redcar.drive()"
      ],
      "execution_count": 8,
      "outputs": [
        {
          "output_type": "stream",
          "text": [
            "driving\n",
            "200\n",
            "driving\n",
            "200\n"
          ],
          "name": "stdout"
        }
      ]
    },
    {
      "cell_type": "markdown",
      "metadata": {
        "id": "3K0jGFrPR-rZ",
        "colab_type": "text"
      },
      "source": [
        ""
      ]
    }
  ]
}