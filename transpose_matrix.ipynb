{
  "nbformat": 4,
  "nbformat_minor": 0,
  "metadata": {
    "colab": {
      "name": "transpose_matrix.ipynb",
      "provenance": [],
      "authorship_tag": "ABX9TyOxJqu4ZxkAb22elrd+yeGM",
      "include_colab_link": true
    },
    "kernelspec": {
      "name": "python3",
      "display_name": "Python 3"
    }
  },
  "cells": [
    {
      "cell_type": "markdown",
      "metadata": {
        "id": "view-in-github",
        "colab_type": "text"
      },
      "source": [
        "<a href=\"https://colab.research.google.com/github/hadimoussavi/MyCookbook/blob/master/transpose_matrix.ipynb\" target=\"_parent\"><img src=\"https://colab.research.google.com/assets/colab-badge.svg\" alt=\"Open In Colab\"/></a>"
      ]
    },
    {
      "cell_type": "code",
      "metadata": {
        "id": "oHG9vlxNnYcx",
        "colab_type": "code",
        "colab": {
          "base_uri": "https://localhost:8080/",
          "height": 272
        },
        "outputId": "7aed198d-33e9-4e91-9d64-f48c85111bbb"
      },
      "source": [
        "p = int(input(\"enter the number of rows:\"))\n",
        "q = int(input(\"enter the number of columns:\"))\n",
        "\n",
        "print(\"enter the elements for matrix1:\")\n",
        "matrix1 = [[int(input()) for i in range(q)] for j in range(p)]\n",
        "print(\"matrix1:\")\n",
        "for i in range(p):\n",
        "  for j in range(q):\n",
        "    print(format(matrix1[i] [j],\"<4\"),end=\"\")\n",
        "  print()  \n",
        "\n",
        "result = [[0 for i in range(p)] for j in range(q)]  \n",
        "for i in range(q):\n",
        "  for j in range(p):\n",
        "    result[i] [j] = matrix1[j] [i]\n",
        "print(\"result:\")\n",
        "for i in range(q):\n",
        "  for j in range(p):\n",
        "    print(format(result[i] [j],\"<4\"),end=\"\")\n",
        "    print()    "
      ],
      "execution_count": 8,
      "outputs": [
        {
          "output_type": "stream",
          "text": [
            "enter the number of rows:2\n",
            "enter the number of columns:2\n",
            "enter the elements for matrix1:\n",
            "1\n",
            "2\n",
            "3\n",
            "4\n",
            "matrix1:\n",
            "1   2   \n",
            "3   4   \n",
            "result:\n",
            "1   \n",
            "3   \n",
            "2   \n",
            "4   \n"
          ],
          "name": "stdout"
        }
      ]
    }
  ]
}