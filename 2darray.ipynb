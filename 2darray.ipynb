{
  "nbformat": 4,
  "nbformat_minor": 0,
  "metadata": {
    "colab": {
      "name": "2darray",
      "provenance": [],
      "authorship_tag": "ABX9TyPLJnnQQ2QQ7WY2a/YwEjWA",
      "include_colab_link": true
    },
    "kernelspec": {
      "name": "python3",
      "display_name": "Python 3"
    }
  },
  "cells": [
    {
      "cell_type": "markdown",
      "metadata": {
        "id": "view-in-github",
        "colab_type": "text"
      },
      "source": [
        "<a href=\"https://colab.research.google.com/github/hadimoussavi/MyCookbook/blob/master/2darray.ipynb\" target=\"_parent\"><img src=\"https://colab.research.google.com/assets/colab-badge.svg\" alt=\"Open In Colab\"/></a>"
      ]
    },
    {
      "cell_type": "markdown",
      "metadata": {
        "id": "2AZAcmBGCWcq",
        "colab_type": "text"
      },
      "source": [
        ""
      ]
    },
    {
      "cell_type": "code",
      "metadata": {
        "id": "hfTaYHt_5-aP",
        "colab_type": "code",
        "colab": {
          "base_uri": "https://localhost:8080/",
          "height": 51
        },
        "outputId": "27c167d4-b057-4aba-8de1-15381d6dda6a"
      },
      "source": [
        "from array import *\n",
        "\n",
        "T = [[11, 12, 5, 2], [15, 6,10], [10, 8, 12, 5], [12,15,8,6]]\n",
        "\n",
        "print(T[0])\n",
        "\n",
        "print(T[1][2])"
      ],
      "execution_count": 6,
      "outputs": [
        {
          "output_type": "stream",
          "text": [
            "[11, 12, 5, 2]\n",
            "10\n"
          ],
          "name": "stdout"
        }
      ]
    },
    {
      "cell_type": "code",
      "metadata": {
        "id": "v7Ll_lNN5_gY",
        "colab_type": "code",
        "colab": {
          "base_uri": "https://localhost:8080/",
          "height": 85
        },
        "outputId": "f815a484-678c-41eb-9a60-929fdf48f641"
      },
      "source": [
        "from array import *\n",
        "\n",
        "T = [[11, 12, 5, 2], [15, 6,10], [10, 8, 12, 5], [12,15,8,6]]\n",
        "for r in T:\n",
        "    for c in r:\n",
        "        print(c,end = \" \")\n",
        "    print()"
      ],
      "execution_count": 7,
      "outputs": [
        {
          "output_type": "stream",
          "text": [
            "11 12 5 2 \n",
            "15 6 10 \n",
            "10 8 12 5 \n",
            "12 15 8 6 \n"
          ],
          "name": "stdout"
        }
      ]
    },
    {
      "cell_type": "code",
      "metadata": {
        "id": "sMAlT9ccDQ63",
        "colab_type": "code",
        "colab": {
          "base_uri": "https://localhost:8080/",
          "height": 102
        },
        "outputId": "9cfa3af5-ce04-41a8-9064-19bc08521532"
      },
      "source": [
        "from array import *\n",
        "T = [[11, 12, 5, 2], [15, 6,10], [10, 8, 12, 5], [12,15,8,6]]\n",
        "\n",
        "T.insert(2, [0,5,11,13,6])\n",
        "\n",
        "for r in T:\n",
        "    for c in r:\n",
        "        print(c,end = \" \")\n",
        "    print()"
      ],
      "execution_count": 8,
      "outputs": [
        {
          "output_type": "stream",
          "text": [
            "11 12 5 2 \n",
            "15 6 10 \n",
            "0 5 11 13 6 \n",
            "10 8 12 5 \n",
            "12 15 8 6 \n"
          ],
          "name": "stdout"
        }
      ]
    },
    {
      "cell_type": "code",
      "metadata": {
        "id": "yRodWNIPDjJz",
        "colab_type": "code",
        "colab": {
          "base_uri": "https://localhost:8080/",
          "height": 68
        },
        "outputId": "edcdffcf-0bac-494c-9906-5163409e1db8"
      },
      "source": [
        "from array import *\n",
        "T = [[11, 12, 5, 2], [15, 6,10], [10, 8, 12, 5], [12,15,8,6]]\n",
        "\n",
        "del T[3]\n",
        "\n",
        "for r in T:\n",
        "    for c in r:\n",
        "        print(c,end = \" \")\n",
        "    print()"
      ],
      "execution_count": 10,
      "outputs": [
        {
          "output_type": "stream",
          "text": [
            "11 12 5 2 \n",
            "15 6 10 \n",
            "10 8 12 5 \n"
          ],
          "name": "stdout"
        }
      ]
    },
    {
      "cell_type": "code",
      "metadata": {
        "id": "4uRsIHaQDbjA",
        "colab_type": "code",
        "colab": {
          "base_uri": "https://localhost:8080/",
          "height": 85
        },
        "outputId": "3a2b1fd6-83f2-4c4c-f47e-8be395ac541a"
      },
      "source": [
        "from array import *\n",
        "\n",
        "T = [[11, 12, 5, 2], [15, 6,10], [10, 8, 12, 5], [12,15,8,6]]\n",
        "\n",
        "T[2] = [11,9]\n",
        "T[0][3] = 7\n",
        "for r in T:\n",
        "    for c in r:\n",
        "        print(c,end = \" \")\n",
        "    print()"
      ],
      "execution_count": 9,
      "outputs": [
        {
          "output_type": "stream",
          "text": [
            "11 12 5 7 \n",
            "15 6 10 \n",
            "11 9 \n",
            "12 15 8 6 \n"
          ],
          "name": "stdout"
        }
      ]
    }
  ]
}