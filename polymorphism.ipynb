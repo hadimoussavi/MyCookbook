{
  "nbformat": 4,
  "nbformat_minor": 0,
  "metadata": {
    "colab": {
      "name": "polymorphism.ipynb",
      "provenance": [],
      "authorship_tag": "ABX9TyM8grAuobZmxJc951rGayx8",
      "include_colab_link": true
    },
    "kernelspec": {
      "name": "python3",
      "display_name": "Python 3"
    }
  },
  "cells": [
    {
      "cell_type": "markdown",
      "metadata": {
        "id": "view-in-github",
        "colab_type": "text"
      },
      "source": [
        "<a href=\"https://colab.research.google.com/github/hadimoussavi/MyCookbook/blob/master/polymorphism.ipynb\" target=\"_parent\"><img src=\"https://colab.research.google.com/assets/colab-badge.svg\" alt=\"Open In Colab\"/></a>"
      ]
    },
    {
      "cell_type": "code",
      "metadata": {
        "id": "q2H0JdXcWQMf",
        "colab_type": "code",
        "colab": {
          "base_uri": "https://localhost:8080/",
          "height": 51
        },
        "outputId": "369b2daa-f182-48f1-e51d-ba85437fbd2d"
      },
      "source": [
        "class dog:\n",
        "  def sound(self):\n",
        "    print(\"bow bow\")\n",
        "\n",
        "class cat:\n",
        "  def sound(self):\n",
        "    print(\"meow\")  \n",
        "\n",
        "def makesound(animaltype):\n",
        "  animaltype.sound()    \n",
        "\n",
        "catobj =cat()\n",
        "dogobj = dog()\n",
        "makesound(catobj)\n",
        "makesound(dogobj)    "
      ],
      "execution_count": 1,
      "outputs": [
        {
          "output_type": "stream",
          "text": [
            "meow\n",
            "bow bow\n"
          ],
          "name": "stdout"
        }
      ]
    }
  ]
}