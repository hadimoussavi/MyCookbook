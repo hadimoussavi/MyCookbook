{
  "nbformat": 4,
  "nbformat_minor": 0,
  "metadata": {
    "colab": {
      "name": "inheretence.ipynb",
      "provenance": [],
      "authorship_tag": "ABX9TyORI2geE6xeie+b4VsC7kWE",
      "include_colab_link": true
    },
    "kernelspec": {
      "name": "python3",
      "display_name": "Python 3"
    }
  },
  "cells": [
    {
      "cell_type": "markdown",
      "metadata": {
        "id": "view-in-github",
        "colab_type": "text"
      },
      "source": [
        "<a href=\"https://colab.research.google.com/github/hadimoussavi/MyCookbook/blob/master/inheretence.ipynb\" target=\"_parent\"><img src=\"https://colab.research.google.com/assets/colab-badge.svg\" alt=\"Open In Colab\"/></a>"
      ]
    },
    {
      "cell_type": "code",
      "metadata": {
        "id": "VW_P2eb5yFKe",
        "colab_type": "code",
        "colab": {
          "base_uri": "https://localhost:8080/",
          "height": 51
        },
        "outputId": "3d1325aa-8fd2-46c3-c23b-2fc4f52a777b"
      },
      "source": [
        "class animal:\n",
        "  def eating(self):\n",
        "    print(\"eating\")\n",
        "    \n",
        "class dog:\n",
        "  def eating(self):\n",
        "    print(\"eating\")\n",
        "  def bark(self):\n",
        "    print(\"bark\")\n",
        "\n",
        "d = dog() \n",
        "d.eating()\n",
        "d.bark()         "
      ],
      "execution_count": 2,
      "outputs": [
        {
          "output_type": "stream",
          "text": [
            "eating\n",
            "bark\n"
          ],
          "name": "stdout"
        }
      ]
    },
    {
      "cell_type": "code",
      "metadata": {
        "id": "ydThXBfvy726",
        "colab_type": "code",
        "colab": {
          "base_uri": "https://localhost:8080/",
          "height": 51
        },
        "outputId": "176246ca-a0c2-4e48-8e2c-1fe0b2ee969c"
      },
      "source": [
        "class animal:\n",
        "  def eating(self):\n",
        "    print(\"eating\")\n",
        "    \n",
        "class dog(animal):\n",
        "  def bark(self):\n",
        "    print(\"bark\")\n",
        "\n",
        "d = dog() \n",
        "d.eating()\n",
        "d.bark()        "
      ],
      "execution_count": 3,
      "outputs": [
        {
          "output_type": "stream",
          "text": [
            "eating\n",
            "bark\n"
          ],
          "name": "stdout"
        }
      ]
    },
    {
      "cell_type": "code",
      "metadata": {
        "id": "VpWM9zuuzkAA",
        "colab_type": "code",
        "colab": {
          "base_uri": "https://localhost:8080/",
          "height": 34
        },
        "outputId": "5083124c-3a2a-4014-c1ef-c13bcc290618"
      },
      "source": [
        "class animal:\n",
        "  def __init__(self,name):\n",
        "    self.name = name \n",
        "    \n",
        "    \n",
        "class dog(animal):\n",
        "  def display(self):\n",
        "    print(self.name)\n",
        "  \n",
        "\n",
        "d = dog(\"babydog\") \n",
        "d.display()        "
      ],
      "execution_count": 1,
      "outputs": [
        {
          "output_type": "stream",
          "text": [
            "babydog\n"
          ],
          "name": "stdout"
        }
      ]
    }
  ]
}