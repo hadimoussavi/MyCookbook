{
  "nbformat": 4,
  "nbformat_minor": 0,
  "metadata": {
    "colab": {
      "name": "Untitled2.ipynb",
      "provenance": [],
      "authorship_tag": "ABX9TyML6gm/uoDdhz0bA/Kuj1Bi",
      "include_colab_link": true
    },
    "kernelspec": {
      "name": "python3",
      "display_name": "Python 3"
    }
  },
  "cells": [
    {
      "cell_type": "markdown",
      "metadata": {
        "id": "view-in-github",
        "colab_type": "text"
      },
      "source": [
        "<a href=\"https://colab.research.google.com/github/hadimoussavi/MyCookbook/blob/master/Untitled2.ipynb\" target=\"_parent\"><img src=\"https://colab.research.google.com/assets/colab-badge.svg\" alt=\"Open In Colab\"/></a>"
      ]
    },
    {
      "cell_type": "code",
      "metadata": {
        "id": "l5TiHPVEua0u",
        "colab_type": "code",
        "colab": {}
      },
      "source": [
        "q1 = \"\"\"Is Python case sensetive when dealng with Identifire?\n",
        "a.Yes\n",
        "b. No\n",
        "c.Machine Dependent\n",
        "d.None\"\"\"\n",
        "\n",
        "q2 = \"\"\"Which of the following is not a keyword?\n",
        "a.eval\n",
        "b.assert\n",
        "c.local\n",
        "d.pass\"\"\"\n",
        "\n",
        "q3 = \"\"\"which one of these is floor division?\n",
        "a./\n",
        "b.//\n",
        "c.%\n",
        "d.None\"\"\"\n",
        "\n",
        "q4 = \"\"\"what is the output of this 3*1**3?\n",
        "a.27\n",
        "b.9\n",
        "c.3\n",
        "d.1\"\"\"\n",
        "\n",
        "q5 = \"\"\"\"a\"+\"bc\"=?\n",
        "a.a\n",
        "b.bc\n",
        "c.bca\n",
        "d.abc\"\"\"\n",
        "\n",
        "\n",
        "questions = {q1:\"a\",q2:\"a\",q3:\"b\",q4:\"c\",q5:\"d\"}\n",
        "name = input(\"enter your name:\")\n",
        "print(\"hello\",name,\"wellcome to the quiz world\")\n",
        "score = 0\n",
        "for i in questions:\n",
        "  print()\n",
        "  print(i)\n",
        "  flag1 = input(\"Do you want to skip this question  (yes/no)\")\n",
        "  if flag1==\"yes\":\n",
        "    continue\n",
        "  ans = input(\"enter the annswer  (a/b/c/d):\")\n",
        "  if ans==questions[i]:\n",
        "    print(\"correct answer, you got 1 point\")\n",
        "    score = score + 1\n",
        "    print(\"current score is:\",score)\n",
        "  else:\n",
        "    print(\"wrong answer, you lost 1 point\")\n",
        "    score = score - 1\n",
        "    print(\"current scores is:\",score)\n",
        "  flag2 = input(\"Do you want to quit(yes/no):\") \n",
        "  if flag2 == \"yes\":\n",
        "    break \n",
        "print(\"Final score is:\",score)      \n"
      ],
      "execution_count": 0,
      "outputs": []
    }
  ]
}