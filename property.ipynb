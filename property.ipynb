{
  "nbformat": 4,
  "nbformat_minor": 0,
  "metadata": {
    "colab": {
      "name": "property.ipynb",
      "provenance": [],
      "authorship_tag": "ABX9TyPrVL/LDk12ltQcXe16n7Ry",
      "include_colab_link": true
    },
    "kernelspec": {
      "name": "python3",
      "display_name": "Python 3"
    }
  },
  "cells": [
    {
      "cell_type": "markdown",
      "metadata": {
        "id": "view-in-github",
        "colab_type": "text"
      },
      "source": [
        "<a href=\"https://colab.research.google.com/github/hadimoussavi/MyCookbook/blob/master/property.ipynb\" target=\"_parent\"><img src=\"https://colab.research.google.com/assets/colab-badge.svg\" alt=\"Open In Colab\"/></a>"
      ]
    },
    {
      "cell_type": "code",
      "metadata": {
        "id": "FS--nwLbQ36i",
        "colab_type": "code",
        "colab": {
          "base_uri": "https://localhost:8080/",
          "height": 68
        },
        "outputId": "ba034ed9-89b5-4771-93d8-471d2bdbf245"
      },
      "source": [
        "class Student:\n",
        "  def __init__(self,name,grade):\n",
        "    self.name = name\n",
        "    self.grade = grade\n",
        "    self.msg = self.name + \" got grade \"  + self.grade\n",
        "\n",
        "stud1 = Student(\"nia\",\"B\") \n",
        "print(stud1.name)\n",
        "print(stud1.grade)\n",
        "print(stud1.msg)   \n"
      ],
      "execution_count": 1,
      "outputs": [
        {
          "output_type": "stream",
          "text": [
            "nia\n",
            "B\n",
            "nia got grade B\n"
          ],
          "name": "stdout"
        }
      ]
    },
    {
      "cell_type": "code",
      "metadata": {
        "id": "2sO_9WPa3FxL",
        "colab_type": "code",
        "colab": {}
      },
      "source": [
        ""
      ],
      "execution_count": 0,
      "outputs": []
    },
    {
      "cell_type": "code",
      "metadata": {
        "colab_type": "code",
        "outputId": "82cce38a-750c-4684-e2cd-a1203563d248",
        "id": "iYkTCgQW5PuU",
        "colab": {
          "base_uri": "https://localhost:8080/",
          "height": 68
        }
      },
      "source": [
        "class Student:\n",
        "  def __init__(self,name,grade):\n",
        "    self.name = name\n",
        "    self.grade = grade\n",
        "    self.msg = self.name + \" got grade \"  + self.grade\n",
        "\n",
        "stud1 = Student(\"nia\",\"B\") \n",
        "stud1.grade = \"A\"\n",
        "print(stud1.name)\n",
        "print(stud1.grade)\n",
        "print(stud1.msg)   \n"
      ],
      "execution_count": 8,
      "outputs": [
        {
          "output_type": "stream",
          "text": [
            "nia\n",
            "A\n",
            "nia got grade B\n"
          ],
          "name": "stdout"
        }
      ]
    },
    {
      "cell_type": "code",
      "metadata": {
        "colab_type": "code",
        "outputId": "4a1fe3b0-2a17-4b78-fdc2-53cd9b05489c",
        "id": "_--1c64i3G23",
        "colab": {
          "base_uri": "https://localhost:8080/",
          "height": 68
        }
      },
      "source": [
        "class Student:\n",
        "  def __init__(self,name,grade):\n",
        "    self.name = name\n",
        "    self.grade = grade\n",
        "\n",
        "  def msg(self):\n",
        "\n",
        "    return self.name + \" got grade \"  + self.grade\n",
        "\n",
        "stud1 = Student(\"nia\",\"B\") \n",
        "stud1.grade = \"A\"\n",
        "print(stud1.name)\n",
        "print(stud1.grade)\n",
        "print(stud1.msg())   \n"
      ],
      "execution_count": 7,
      "outputs": [
        {
          "output_type": "stream",
          "text": [
            "nia\n",
            "A\n",
            "nia got grade A\n"
          ],
          "name": "stdout"
        }
      ]
    },
    {
      "cell_type": "code",
      "metadata": {
        "id": "_0EJPW6v3ck3",
        "colab_type": "code",
        "colab": {}
      },
      "source": [
        ""
      ],
      "execution_count": 0,
      "outputs": []
    },
    {
      "cell_type": "code",
      "metadata": {
        "colab_type": "code",
        "outputId": "67e0e4e4-117f-46e9-a62b-b020d0d8c469",
        "id": "fm73SgCR3eph",
        "colab": {
          "base_uri": "https://localhost:8080/",
          "height": 68
        }
      },
      "source": [
        "class Student:\n",
        "  def __init__(self,name,grade):\n",
        "    self.name = name\n",
        "    self.grade = grade\n",
        "  def msg(self):  \n",
        "    return self.name + \" got grade \"  + self.grade\n",
        "\n",
        "stud1 = Student(\"nia\",\"B\") \n",
        "stud1.grade = \"A\"\n",
        "print(stud1.name)\n",
        "print(stud1.grade)\n",
        "print(stud1.msg)   \n"
      ],
      "execution_count": 12,
      "outputs": [
        {
          "output_type": "stream",
          "text": [
            "nia\n",
            "A\n",
            "<bound method Student.msg of <__main__.Student object at 0x7f2cddd6eac8>>\n"
          ],
          "name": "stdout"
        }
      ]
    },
    {
      "cell_type": "code",
      "metadata": {
        "id": "C72KIq7B6Jav",
        "colab_type": "code",
        "colab": {}
      },
      "source": [
        ""
      ],
      "execution_count": 0,
      "outputs": []
    },
    {
      "cell_type": "code",
      "metadata": {
        "colab_type": "code",
        "outputId": "40c0a357-1c39-4a40-bfd6-5b96e920d01d",
        "id": "xGWLLwqg6fRG",
        "colab": {
          "base_uri": "https://localhost:8080/",
          "height": 68
        }
      },
      "source": [
        "class Student:\n",
        "  def __init__(self,name,grade):\n",
        "    self.name = name\n",
        "    self.grade = grade\n",
        "  @property  \n",
        "  def msg(self):  \n",
        "    return self.name + \" got grade \"  + self.grade\n",
        "\n",
        "stud1 = Student(\"nia\",\"B\") \n",
        "stud1.grade = \"A\"\n",
        "print(stud1.name)\n",
        "print(stud1.grade)\n",
        "print(stud1.msg)   \n"
      ],
      "execution_count": 13,
      "outputs": [
        {
          "output_type": "stream",
          "text": [
            "nia\n",
            "A\n",
            "nia got grade A\n"
          ],
          "name": "stdout"
        }
      ]
    },
    {
      "cell_type": "code",
      "metadata": {
        "id": "yflrfoTG7bVs",
        "colab_type": "code",
        "colab": {}
      },
      "source": [
        ""
      ],
      "execution_count": 0,
      "outputs": []
    },
    {
      "cell_type": "code",
      "metadata": {
        "colab_type": "code",
        "outputId": "448dafa7-f524-47ea-dc50-706cf3cdc225",
        "id": "lH-1ZFE67mZT",
        "colab": {
          "base_uri": "https://localhost:8080/",
          "height": 232
        }
      },
      "source": [
        "class Student:\n",
        "  def __init__(self,name,grade):\n",
        "    self.name = name\n",
        "    self.grade = grade\n",
        "  @property  \n",
        "  def msg(self):  \n",
        "    return self.name + \" got grade \"  + self.grade\n",
        "\n",
        "stud1 = Student(\"nia\",\"B\") \n",
        "stud1.msg = \"hadi go grade A\"\n",
        "print(stud1.name)\n",
        "print(stud1.grade)\n",
        "print(stud1.msg)   \n"
      ],
      "execution_count": 14,
      "outputs": [
        {
          "output_type": "error",
          "ename": "AttributeError",
          "evalue": "ignored",
          "traceback": [
            "\u001b[0;31m---------------------------------------------------------------------------\u001b[0m",
            "\u001b[0;31mAttributeError\u001b[0m                            Traceback (most recent call last)",
            "\u001b[0;32m<ipython-input-14-139081651aae>\u001b[0m in \u001b[0;36m<module>\u001b[0;34m()\u001b[0m\n\u001b[1;32m      8\u001b[0m \u001b[0;34m\u001b[0m\u001b[0m\n\u001b[1;32m      9\u001b[0m \u001b[0mstud1\u001b[0m \u001b[0;34m=\u001b[0m \u001b[0mStudent\u001b[0m\u001b[0;34m(\u001b[0m\u001b[0;34m\"nia\"\u001b[0m\u001b[0;34m,\u001b[0m\u001b[0;34m\"B\"\u001b[0m\u001b[0;34m)\u001b[0m\u001b[0;34m\u001b[0m\u001b[0;34m\u001b[0m\u001b[0m\n\u001b[0;32m---> 10\u001b[0;31m \u001b[0mstud1\u001b[0m\u001b[0;34m.\u001b[0m\u001b[0mmsg\u001b[0m \u001b[0;34m=\u001b[0m \u001b[0;34m\"hadi go grade A\"\u001b[0m\u001b[0;34m\u001b[0m\u001b[0;34m\u001b[0m\u001b[0m\n\u001b[0m\u001b[1;32m     11\u001b[0m \u001b[0mprint\u001b[0m\u001b[0;34m(\u001b[0m\u001b[0mstud1\u001b[0m\u001b[0;34m.\u001b[0m\u001b[0mname\u001b[0m\u001b[0;34m)\u001b[0m\u001b[0;34m\u001b[0m\u001b[0;34m\u001b[0m\u001b[0m\n\u001b[1;32m     12\u001b[0m \u001b[0mprint\u001b[0m\u001b[0;34m(\u001b[0m\u001b[0mstud1\u001b[0m\u001b[0;34m.\u001b[0m\u001b[0mgrade\u001b[0m\u001b[0;34m)\u001b[0m\u001b[0;34m\u001b[0m\u001b[0;34m\u001b[0m\u001b[0m\n",
            "\u001b[0;31mAttributeError\u001b[0m: can't set attribute"
          ]
        }
      ]
    },
    {
      "cell_type": "code",
      "metadata": {
        "id": "HmGt_S6l76Tc",
        "colab_type": "code",
        "colab": {}
      },
      "source": [
        ""
      ],
      "execution_count": 0,
      "outputs": []
    },
    {
      "cell_type": "code",
      "metadata": {
        "colab_type": "code",
        "outputId": "8afd04cd-159c-4d7e-f404-fb2b61d26b7f",
        "id": "aSMQIQ8177w4",
        "colab": {
          "base_uri": "https://localhost:8080/",
          "height": 85
        }
      },
      "source": [
        "class Student:\n",
        "  def __init__(self,name,grade):\n",
        "    self.name = name\n",
        "    self.grade = grade\n",
        "#  @property  \n",
        "  def msg(self):  \n",
        "    return self.name + \" got grade \"  + self.grade\n",
        "  def setter(self,msg):\n",
        "    sent = msg.split(\" \")\n",
        "    print(sent)\n",
        "    self.name = sent[0]\n",
        "    self.grade = sent[-1]\n",
        "\n",
        "\n",
        "stud1 = Student(\"nia\",\"B\") \n",
        "stud1.setter(\"hadi got grade A\")\n",
        "#stud1.msg = \"hadi got grade A\"\n",
        "stud1.grade = \"A\"\n",
        "print(\"name:\",stud1.name)\n",
        "print(\"grade:\",stud1.grade)\n",
        "print(stud1.msg)   \n"
      ],
      "execution_count": 16,
      "outputs": [
        {
          "output_type": "stream",
          "text": [
            "['hadi', 'got', 'grade', 'A']\n",
            "name: hadi\n",
            "grade: A\n",
            "<bound method Student.msg of <__main__.Student object at 0x7f2cddd30c50>>\n"
          ],
          "name": "stdout"
        }
      ]
    },
    {
      "cell_type": "code",
      "metadata": {
        "id": "OUd3dtej-3Rn",
        "colab_type": "code",
        "colab": {}
      },
      "source": [
        ""
      ],
      "execution_count": 0,
      "outputs": []
    },
    {
      "cell_type": "code",
      "metadata": {
        "colab_type": "code",
        "outputId": "707315af-10db-43e0-c34e-fc0712266f22",
        "id": "IhwANCO8-4za",
        "colab": {
          "base_uri": "https://localhost:8080/",
          "height": 85
        }
      },
      "source": [
        "class Student:\n",
        "  def __init__(self,name,grade):\n",
        "    self.name = name\n",
        "    self.grade = grade\n",
        "  @property  \n",
        "  def msg(self):  \n",
        "    return self.name + \" got grade \"  + self.grade\n",
        "  @msg.setter  \n",
        "  def msg(self,msg):\n",
        "    sent = msg.split(\" \")\n",
        "    print(sent)\n",
        "    self.name = sent[0]\n",
        "    self.grade = sent[-1]\n",
        "\n",
        "\n",
        "stud1 = Student(\"nia\",\"B\") \n",
        "#stud1.setter(\"hadi got grade A\")\n",
        "stud1.msg = \"hadi got grade A\"\n",
        "stud1.grade = \"A\"\n",
        "print(\"name:\",stud1.name)\n",
        "print(\"grade:\",stud1.grade)\n",
        "print(stud1.msg)   \n"
      ],
      "execution_count": 17,
      "outputs": [
        {
          "output_type": "stream",
          "text": [
            "['hadi', 'got', 'grade', 'A']\n",
            "name: hadi\n",
            "grade: A\n",
            "hadi got grade A\n"
          ],
          "name": "stdout"
        }
      ]
    }
  ]
}