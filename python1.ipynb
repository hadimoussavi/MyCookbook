{
  "nbformat": 4,
  "nbformat_minor": 0,
  "metadata": {
    "colab": {
      "name": "python1.ipynb",
      "provenance": [],
      "authorship_tag": "ABX9TyPpLKZz3/7NrSOJaSa9U+IZ",
      "include_colab_link": true
    },
    "kernelspec": {
      "name": "python3",
      "display_name": "Python 3"
    }
  },
  "cells": [
    {
      "cell_type": "markdown",
      "metadata": {
        "id": "view-in-github",
        "colab_type": "text"
      },
      "source": [
        "<a href=\"https://colab.research.google.com/github/hadimoussavi/MyCookbook/blob/master/python1.ipynb\" target=\"_parent\"><img src=\"https://colab.research.google.com/assets/colab-badge.svg\" alt=\"Open In Colab\"/></a>"
      ]
    },
    {
      "cell_type": "code",
      "metadata": {
        "id": "jkeIzHusAyMq",
        "colab_type": "code",
        "colab": {
          "base_uri": "https://localhost:8080/",
          "height": 51
        },
        "outputId": "0629aab8-6f5f-472e-f5ee-dcbc93c574f2"
      },
      "source": [
        "import sys\n",
        "import math\n",
        "import random\n",
        "import threading\n",
        "import time\n",
        "from functools import reduce\n",
        "\n",
        "# ----- INTRO -----\n",
        "# Python files end with the extension .py\n",
        "# Print to the console\n",
        "# Python statements terminate with a newline\n",
        "print(\"Hello World\")\n",
        "\n",
        "# Accept user input and store it in a variable\n",
        "# name = input(\"What is your name \")\n",
        "# print(\"Hi \", name)\n",
        "\n",
        "# If you want to extend a statement to multiple\n",
        "# lines you can use parentheses or \\\n",
        "v1 = (\n",
        "        1 + 2\n",
        "        + 3\n",
        ")\n",
        "v1 = 1 + 2 \\\n",
        "     + 3\n",
        "\n",
        "# Put multiple statements on 1 line\n",
        "v1 = 5;\n",
        "v1 = v1 - 1\n",
        "\n",
        "\"\"\"\n",
        "Multi-line\n",
        "Comment\n",
        "\"\"\"\n"
      ],
      "execution_count": 1,
      "outputs": [
        {
          "output_type": "stream",
          "text": [
            "Hello World\n"
          ],
          "name": "stdout"
        },
        {
          "output_type": "execute_result",
          "data": {
            "text/plain": [
              "'\\nMulti-line\\nComment\\n'"
            ]
          },
          "metadata": {
            "tags": []
          },
          "execution_count": 1
        }
      ]
    }
  ]
}