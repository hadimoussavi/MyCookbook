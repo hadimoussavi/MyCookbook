{
  "nbformat": 4,
  "nbformat_minor": 0,
  "metadata": {
    "colab": {
      "name": "Linalg.ipynb",
      "provenance": [],
      "authorship_tag": "ABX9TyMDMWDRT9iuPELMmCgJTFLA",
      "include_colab_link": true
    },
    "kernelspec": {
      "name": "python3",
      "display_name": "Python 3"
    }
  },
  "cells": [
    {
      "cell_type": "markdown",
      "metadata": {
        "id": "view-in-github",
        "colab_type": "text"
      },
      "source": [
        "<a href=\"https://colab.research.google.com/github/hadimoussavi/MyCookbook/blob/master/Linalg.ipynb\" target=\"_parent\"><img src=\"https://colab.research.google.com/assets/colab-badge.svg\" alt=\"Open In Colab\"/></a>"
      ]
    },
    {
      "cell_type": "code",
      "metadata": {
        "id": "Vr9jc54neORp",
        "colab_type": "code",
        "colab": {
          "base_uri": "https://localhost:8080/",
          "height": 34
        },
        "outputId": "eed56039-d192-4175-87f3-816fc7ede3d7"
      },
      "source": [
        "import numpy as np\n",
        "a = np.array([[3,1],[1,2]])\n",
        "b = np.array([9,8])\n",
        "np.linalg.solve(a,b)"
      ],
      "execution_count": 1,
      "outputs": [
        {
          "output_type": "execute_result",
          "data": {
            "text/plain": [
              "array([2., 3.])"
            ]
          },
          "metadata": {
            "tags": []
          },
          "execution_count": 1
        }
      ]
    },
    {
      "cell_type": "code",
      "metadata": {
        "id": "69FbuKoGh3bo",
        "colab_type": "code",
        "colab": {
          "base_uri": "https://localhost:8080/",
          "height": 34
        },
        "outputId": "87089323-9020-4c3d-80a2-01b78459fff3"
      },
      "source": [
        "x = np.array([[6,2,-5],[3,3,-2],[7,5,-3]])\n",
        "y = np.array([13,13,26])\n",
        "np.linalg.solve(x,y)"
      ],
      "execution_count": 5,
      "outputs": [
        {
          "output_type": "execute_result",
          "data": {
            "text/plain": [
              "array([2., 3., 1.])"
            ]
          },
          "metadata": {
            "tags": []
          },
          "execution_count": 5
        }
      ]
    },
    {
      "cell_type": "code",
      "metadata": {
        "id": "xJauDG3DlCR9",
        "colab_type": "code",
        "colab": {
          "base_uri": "https://localhost:8080/",
          "height": 51
        },
        "outputId": "5f784dc6-c3eb-4335-8290-552c5c2495f5"
      },
      "source": [
        "a= np.array([[1,2],[3,4]])\n",
        "np.linalg.matrix_power(a,2)"
      ],
      "execution_count": 6,
      "outputs": [
        {
          "output_type": "execute_result",
          "data": {
            "text/plain": [
              "array([[ 7, 10],\n",
              "       [15, 22]])"
            ]
          },
          "metadata": {
            "tags": []
          },
          "execution_count": 6
        }
      ]
    },
    {
      "cell_type": "code",
      "metadata": {
        "id": "Avue3sKnljqA",
        "colab_type": "code",
        "colab": {
          "base_uri": "https://localhost:8080/",
          "height": 51
        },
        "outputId": "258876a2-6695-43be-925d-b7c088055fdf"
      },
      "source": [
        "np.dot(a,a)"
      ],
      "execution_count": 7,
      "outputs": [
        {
          "output_type": "execute_result",
          "data": {
            "text/plain": [
              "array([[ 7, 10],\n",
              "       [15, 22]])"
            ]
          },
          "metadata": {
            "tags": []
          },
          "execution_count": 7
        }
      ]
    },
    {
      "cell_type": "code",
      "metadata": {
        "id": "hanr2x8Qlr1c",
        "colab_type": "code",
        "colab": {
          "base_uri": "https://localhost:8080/",
          "height": 51
        },
        "outputId": "3e853233-22f7-4282-aef4-9d670df3a83e"
      },
      "source": [
        "np.linalg.matrix_power(a,3)"
      ],
      "execution_count": 8,
      "outputs": [
        {
          "output_type": "execute_result",
          "data": {
            "text/plain": [
              "array([[ 37,  54],\n",
              "       [ 81, 118]])"
            ]
          },
          "metadata": {
            "tags": []
          },
          "execution_count": 8
        }
      ]
    },
    {
      "cell_type": "code",
      "metadata": {
        "id": "rK5VDpacl4sq",
        "colab_type": "code",
        "colab": {
          "base_uri": "https://localhost:8080/",
          "height": 51
        },
        "outputId": "c45a176b-1b0f-4288-807e-3b5adec6efae"
      },
      "source": [
        "np.linalg.matrix_power(a,0)"
      ],
      "execution_count": 9,
      "outputs": [
        {
          "output_type": "execute_result",
          "data": {
            "text/plain": [
              "array([[1, 0],\n",
              "       [0, 1]])"
            ]
          },
          "metadata": {
            "tags": []
          },
          "execution_count": 9
        }
      ]
    },
    {
      "cell_type": "code",
      "metadata": {
        "id": "a-h68D2ZmDEf",
        "colab_type": "code",
        "colab": {
          "base_uri": "https://localhost:8080/",
          "height": 51
        },
        "outputId": "db695148-029c-4b55-ce64-7063ba3737c7"
      },
      "source": [
        "np.linalg.matrix_power(a,-2)"
      ],
      "execution_count": 10,
      "outputs": [
        {
          "output_type": "execute_result",
          "data": {
            "text/plain": [
              "array([[ 5.5 , -2.5 ],\n",
              "       [-3.75,  1.75]])"
            ]
          },
          "metadata": {
            "tags": []
          },
          "execution_count": 10
        }
      ]
    },
    {
      "cell_type": "code",
      "metadata": {
        "id": "i328fyckmWji",
        "colab_type": "code",
        "colab": {
          "base_uri": "https://localhost:8080/",
          "height": 51
        },
        "outputId": "0481e252-36c4-4ebd-fcd3-1ad57a1228a0"
      },
      "source": [
        "b = np.linalg.inv(a)\n",
        "b"
      ],
      "execution_count": 11,
      "outputs": [
        {
          "output_type": "execute_result",
          "data": {
            "text/plain": [
              "array([[-2. ,  1. ],\n",
              "       [ 1.5, -0.5]])"
            ]
          },
          "metadata": {
            "tags": []
          },
          "execution_count": 11
        }
      ]
    },
    {
      "cell_type": "code",
      "metadata": {
        "id": "4h8DgIQrnEEw",
        "colab_type": "code",
        "colab": {
          "base_uri": "https://localhost:8080/",
          "height": 51
        },
        "outputId": "2ab61fb9-a79f-474d-e591-bc0257003ba5"
      },
      "source": [
        "a = np.array([[1,2],[3,4]])\n",
        "a"
      ],
      "execution_count": 12,
      "outputs": [
        {
          "output_type": "execute_result",
          "data": {
            "text/plain": [
              "array([[1, 2],\n",
              "       [3, 4]])"
            ]
          },
          "metadata": {
            "tags": []
          },
          "execution_count": 12
        }
      ]
    },
    {
      "cell_type": "code",
      "metadata": {
        "id": "yl63DlXunTDB",
        "colab_type": "code",
        "colab": {
          "base_uri": "https://localhost:8080/",
          "height": 51
        },
        "outputId": "b19e1e55-aa4c-4ce0-d685-f7e9c7ccbc7f"
      },
      "source": [
        "b = np.linalg.inv(a)\n",
        "b"
      ],
      "execution_count": 13,
      "outputs": [
        {
          "output_type": "execute_result",
          "data": {
            "text/plain": [
              "array([[-2. ,  1. ],\n",
              "       [ 1.5, -0.5]])"
            ]
          },
          "metadata": {
            "tags": []
          },
          "execution_count": 13
        }
      ]
    },
    {
      "cell_type": "code",
      "metadata": {
        "id": "p_yKkupkoGn8",
        "colab_type": "code",
        "colab": {
          "base_uri": "https://localhost:8080/",
          "height": 34
        },
        "outputId": "75c0f654-4cd6-448a-972d-cfab20c34d40"
      },
      "source": [
        "np.allclose(np.dot(a,b),np.eye(2))"
      ],
      "execution_count": 15,
      "outputs": [
        {
          "output_type": "execute_result",
          "data": {
            "text/plain": [
              "True"
            ]
          },
          "metadata": {
            "tags": []
          },
          "execution_count": 15
        }
      ]
    },
    {
      "cell_type": "code",
      "metadata": {
        "id": "bo_RzLQmoeFy",
        "colab_type": "code",
        "colab": {
          "base_uri": "https://localhost:8080/",
          "height": 51
        },
        "outputId": "8dfa95f0-cda3-40df-ff54-872e55e15547"
      },
      "source": [
        "np.dot(a,b)"
      ],
      "execution_count": 16,
      "outputs": [
        {
          "output_type": "execute_result",
          "data": {
            "text/plain": [
              "array([[1.0000000e+00, 0.0000000e+00],\n",
              "       [8.8817842e-16, 1.0000000e+00]])"
            ]
          },
          "metadata": {
            "tags": []
          },
          "execution_count": 16
        }
      ]
    },
    {
      "cell_type": "code",
      "metadata": {
        "id": "lsA647fIo2D7",
        "colab_type": "code",
        "colab": {
          "base_uri": "https://localhost:8080/",
          "height": 986
        },
        "outputId": "c129f108-1018-4a7e-c9a7-3037f8df30c5"
      },
      "source": [
        "help(np.linalg.inv)"
      ],
      "execution_count": 17,
      "outputs": [
        {
          "output_type": "stream",
          "text": [
            "Help on function inv in module numpy.linalg:\n",
            "\n",
            "inv(a)\n",
            "    Compute the (multiplicative) inverse of a matrix.\n",
            "    \n",
            "    Given a square matrix `a`, return the matrix `ainv` satisfying\n",
            "    ``dot(a, ainv) = dot(ainv, a) = eye(a.shape[0])``.\n",
            "    \n",
            "    Parameters\n",
            "    ----------\n",
            "    a : (..., M, M) array_like\n",
            "        Matrix to be inverted.\n",
            "    \n",
            "    Returns\n",
            "    -------\n",
            "    ainv : (..., M, M) ndarray or matrix\n",
            "        (Multiplicative) inverse of the matrix `a`.\n",
            "    \n",
            "    Raises\n",
            "    ------\n",
            "    LinAlgError\n",
            "        If `a` is not square or inversion fails.\n",
            "    \n",
            "    Notes\n",
            "    -----\n",
            "    \n",
            "    .. versionadded:: 1.8.0\n",
            "    \n",
            "    Broadcasting rules apply, see the `numpy.linalg` documentation for\n",
            "    details.\n",
            "    \n",
            "    Examples\n",
            "    --------\n",
            "    >>> from numpy.linalg import inv\n",
            "    >>> a = np.array([[1., 2.], [3., 4.]])\n",
            "    >>> ainv = inv(a)\n",
            "    >>> np.allclose(np.dot(a, ainv), np.eye(2))\n",
            "    True\n",
            "    >>> np.allclose(np.dot(ainv, a), np.eye(2))\n",
            "    True\n",
            "    \n",
            "    If a is a matrix object, then the return value is a matrix as well:\n",
            "    \n",
            "    >>> ainv = inv(np.matrix(a))\n",
            "    >>> ainv\n",
            "    matrix([[-2. ,  1. ],\n",
            "            [ 1.5, -0.5]])\n",
            "    \n",
            "    Inverses of several matrices can be computed at once:\n",
            "    \n",
            "    >>> a = np.array([[[1., 2.], [3., 4.]], [[1, 3], [3, 5]]])\n",
            "    >>> inv(a)\n",
            "    array([[[-2.  ,  1.  ],\n",
            "            [ 1.5 , -0.5 ]],\n",
            "           [[-1.25,  0.75],\n",
            "            [ 0.75, -0.25]]])\n",
            "\n"
          ],
          "name": "stdout"
        }
      ]
    }
  ]
}