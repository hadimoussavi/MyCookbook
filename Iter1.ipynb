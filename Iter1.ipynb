{
  "nbformat": 4,
  "nbformat_minor": 0,
  "metadata": {
    "colab": {
      "name": "Iter1.ipynb",
      "provenance": [],
      "authorship_tag": "ABX9TyMYYdy/bdofnFllNLzC4oyl",
      "include_colab_link": true
    },
    "kernelspec": {
      "name": "python3",
      "display_name": "Python 3"
    }
  },
  "cells": [
    {
      "cell_type": "markdown",
      "metadata": {
        "id": "view-in-github",
        "colab_type": "text"
      },
      "source": [
        "<a href=\"https://colab.research.google.com/github/hadimoussavi/MyCookbook/blob/master/Iter1.ipynb\" target=\"_parent\"><img src=\"https://colab.research.google.com/assets/colab-badge.svg\" alt=\"Open In Colab\"/></a>"
      ]
    },
    {
      "cell_type": "code",
      "metadata": {
        "id": "HTyw-G03D3Qe",
        "colab_type": "code",
        "colab": {
          "base_uri": "https://localhost:8080/",
          "height": 289
        },
        "outputId": "3cdbdbd4-5445-4333-9397-08d03bade560"
      },
      "source": [
        "n=int(input('Entre n value:'))\n",
        "for i in range(n):\n",
        "  print('  '*(n-i-1),end='')\n",
        "  for j in range(i+1):\n",
        "    print(j+1,end=' ')\n",
        "  print()\n",
        "\n",
        "for i in range(n-1):\n",
        "   print('  '*(i+1),end='')\n",
        "   for j in range(n-i-1):\n",
        "     print(j+1,end=' ')\n",
        "   print()      "
      ],
      "execution_count": 2,
      "outputs": [
        {
          "output_type": "stream",
          "text": [
            "Entre n value:8\n",
            "              1 \n",
            "            1 2 \n",
            "          1 2 3 \n",
            "        1 2 3 4 \n",
            "      1 2 3 4 5 \n",
            "    1 2 3 4 5 6 \n",
            "  1 2 3 4 5 6 7 \n",
            "1 2 3 4 5 6 7 8 \n",
            "  1 2 3 4 5 6 7 \n",
            "    1 2 3 4 5 6 \n",
            "      1 2 3 4 5 \n",
            "        1 2 3 4 \n",
            "          1 2 3 \n",
            "            1 2 \n",
            "              1 \n"
          ],
          "name": "stdout"
        }
      ]
    }
  ]
}